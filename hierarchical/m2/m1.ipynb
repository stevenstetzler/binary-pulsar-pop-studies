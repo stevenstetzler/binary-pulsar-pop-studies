{
 "cells": [
  {
   "cell_type": "code",
   "execution_count": 1,
   "metadata": {
    "collapsed": true
   },
   "outputs": [],
   "source": [
    "from scipy import stats\n",
    "from scipy.special import gamma\n",
    "from scipy.stats import expon\n",
    "import numpy as np\n",
    "np.seterr(divide='ignore', invalid='ignore')\n",
    "import math\n",
    "from matplotlib import pyplot as plt\n",
    "%matplotlib inline\n",
    "import corner\n",
    "from glob import glob\n",
    "import os"
   ]
  },
  {
   "cell_type": "code",
   "execution_count": 10,
   "metadata": {
    "collapsed": true
   },
   "outputs": [],
   "source": [
    "def mu_lgprior(mu, sigma):\n",
    "    return 0\n",
    "\n",
    "\n",
    "def mu_lglike(samples, mu, sigma):\n",
    "    return -np.sum((samples - mu)**2) / (2 * sigma**2)\n",
    "\n",
    "\n",
    "# log-posterior for P(mu | sigma, samples)\n",
    "def mu_lgprob(mu, sigma, samples):\n",
    "    # l(mu | sigma, samples) ~ l(mu, sigma) + l(samples | mu, sigma)\n",
    "    return mu_lgprior(mu, sigma) + mu_lglike(samples, mu, sigma)\n",
    "\n",
    "\n",
    "def get_mu(mu, sigma, samples):\n",
    "    # Draw new mu from proposal distribution \n",
    "    new_mu = np.random.uniform(low=0, high=4.0)\n",
    "    \n",
    "    prob_new_mu = 1. / 4.\n",
    "    prob_old_mu = 1. / 4.\n",
    "    \n",
    "    # MH-Step\n",
    "    # a = a_1 * a_2\n",
    "    # a_1 = P(new) / P(old)\n",
    "    # a_2 = Q(old) / Q(new)\n",
    "    # Accept with prob a if a <= 1\n",
    "    # lg(a) = lg(a_1) + lg(a2)\n",
    "    # lg(a) = lg(P(new)) - lg(P(old)) + lg(Q(old)) - lg(Q(new))\n",
    "    # Accept with prob a if lg(a) <= 0\n",
    "    \n",
    "    lg_a1 = mu_lgprob(new_mu, sigma, samples) - mu_lgprob(mu, sigma, samples)\n",
    "    \n",
    "    lg_a2 = math.log(prob_old_mu) - math.log(prob_new_mu)\n",
    "    \n",
    "    lg_a = lg_a1 + lg_a2\n",
    "\n",
    "    if lg_a > 1:\n",
    "        return new_mu\n",
    "    else:\n",
    "        lg_r = math.log(np.random.uniform())\n",
    "        if lg_r < lg_a:\n",
    "            return new_mu\n",
    "        else:\n",
    "            return mu"
   ]
  },
  {
   "cell_type": "code",
   "execution_count": 11,
   "metadata": {
    "collapsed": true
   },
   "outputs": [],
   "source": [
    "def sigma_lgprior(mu, sigma):\n",
    "    return 0\n",
    "\n",
    "\n",
    "def sigma_lglike(samples, mu, sigma):\n",
    "    return -len(samples) * math.log(sigma) - np.sum((samples - mu)**2) / (2 * sigma**2)\n",
    "\n",
    "\n",
    "# log-posterior for P(mu | sigma, samples)\n",
    "def sigma_lgprob(mu, sigma, samples):        \n",
    "    # l(sigma | mu, samples) ~ l(mu, sigma) + l(samples | mu, sigma)\n",
    "    return sigma_lgprior(mu, sigma) + sigma_lglike(samples, mu, sigma)\n",
    "\n",
    "\n",
    "def get_sigma(mu, sigma, samples):    \n",
    "    # Draw new sigma from proposal distribution\n",
    "    new_sigma = np.random.uniform(low=0, high=5)\n",
    "    \n",
    "    prob_new_sigma = 1. / 5.\n",
    "    prob_old_sigma = 1. / 5.\n",
    "    \n",
    "    # MH-Step\n",
    "    # a = a_1 * a_2\n",
    "    # a_1 = P(new) / P(old)\n",
    "    # a_2 = Q(old) / Q(new)\n",
    "    # Accept with prob a if a <= 1\n",
    "    # lg(a) = lg(a_1) + lg(a2)\n",
    "    # lg(a) = lg(P(new)) - lg(P(old)) + lg(Q(old)) - lg(Q(new))\n",
    "    # Accept with prob a if lg(a) <= 0\n",
    "    \n",
    "    lg_a1 = sigma_lgprob(mu, new_sigma, samples) - sigma_lgprob(mu, sigma, samples)\n",
    "        \n",
    "    lg_a2 = math.log(prob_old_sigma) - math.log(prob_new_sigma)\n",
    "            \n",
    "    lg_a = lg_a1 + lg_a2\n",
    "\n",
    "    if lg_a > 0:\n",
    "        return new_sigma\n",
    "    else:\n",
    "        lg_r = math.log(np.random.uniform())\n",
    "        if lg_r < lg_a:\n",
    "            return new_sigma\n",
    "        else:\n",
    "            return sigma"
   ]
  },
  {
   "cell_type": "code",
   "execution_count": 22,
   "metadata": {
    "collapsed": true
   },
   "outputs": [],
   "source": [
    "def load_data():\n",
    "    ret_data = []\n",
    "    \n",
    "    pulsars = glob(\"../pars_M2_SINI/*\")\n",
    "    for pulsar in pulsars:\n",
    "        chain = os.path.join(pulsar, \"chain_burn_0.5_thin_10.txt\")\n",
    "        chain_data = np.genfromtxt(chain)\n",
    "        m1_data = chain_data[:, 3]\n",
    "        ret_data.append(m2_data)\n",
    "        \n",
    "    return np.asarray(ret_data)"
   ]
  },
  {
   "cell_type": "code",
   "execution_count": 23,
   "metadata": {
    "collapsed": true
   },
   "outputs": [],
   "source": [
    "def thin_data(measurements, num_points=5000):\n",
    "    ret_data = []\n",
    "\n",
    "    for measurement in measurements:\n",
    "        if len(measurement) < num_points:\n",
    "            ret_data.append(measurement)\n",
    "            continue\n",
    "        ret_data.append(measurement[::int(len(measurement) / num_points)])\n",
    "        \n",
    "    return np.asarray(ret_data)"
   ]
  },
  {
   "cell_type": "code",
   "execution_count": 24,
   "metadata": {
    "collapsed": true
   },
   "outputs": [],
   "source": [
    "m1_vals = load_data()"
   ]
  },
  {
   "cell_type": "code",
   "execution_count": 7,
   "metadata": {
    "collapsed": true
   },
   "outputs": [],
   "source": [
    "def get_samples(mu, sigma, measurements):\n",
    "    guess = stats.norm(loc=mu, scale=sigma)\n",
    "    # Draw new samples from P(M2_i | mu, sigma)\n",
    "    N = measurements.shape[0]\n",
    "    samples = np.zeros(N)\n",
    "    \n",
    "    for i, measurement in enumerate(measurements):\n",
    "        probs = guess.pdf(measurement)\n",
    "        probs /= np.sum(probs)\n",
    "        samples[i] = np.random.choice(measurement, p=probs)\n",
    "    \n",
    "    return samples"
   ]
  },
  {
   "cell_type": "code",
   "execution_count": 8,
   "metadata": {
    "collapsed": true
   },
   "outputs": [],
   "source": [
    "def sample(measurements, niter=1000, guess_mu=1.0, guess_sigma=1.0):\n",
    "    mus = np.zeros(niter)\n",
    "    sigmas = np.zeros(niter)\n",
    "    \n",
    "    mus[0] = guess_mu\n",
    "    sigmas[0] = guess_sigma\n",
    "\n",
    "    # Gibbs Sampling\n",
    "    for i in range(1, niter):\n",
    "        if i % 100 == 0:\n",
    "            print \"{0:0.1f}% Done                   \\r\".format(100. * i / float(niter)),\n",
    "\n",
    "        # Draw x_i ~ P(x_i | mu_i-1, sigma_i-1)\n",
    "        samples = get_samples(mus[i - 1], sigmas[i - 1], measurements)\n",
    "        \n",
    "        # Draw mu_i ~ P(mu_i | x_i, sigma_i-1)\n",
    "        mus[i] = get_mu(mus[i - 1], sigmas[i - 1], samples)\n",
    "        \n",
    "        # Draw sigma_i ~ P(sigma_i | x_i, mu_i)\n",
    "        sigmas[i] = get_sigma(mus[i], sigmas[i - 1], samples)\n",
    "    \n",
    "    return mus, sigmas"
   ]
  },
  {
   "cell_type": "code",
   "execution_count": 33,
   "metadata": {},
   "outputs": [
    {
     "name": "stdout",
     "output_type": "stream",
     "text": [
      "99.9% Done                   \r"
     ]
    }
   ],
   "source": [
    "thinned_data = thin_data(m1_vals)\n",
    "mus, sigmas = sample(thinned_data, niter=100000)"
   ]
  },
  {
   "cell_type": "code",
   "execution_count": 43,
   "metadata": {
    "collapsed": true
   },
   "outputs": [],
   "source": [
    "def plot_sampling(measurements, mus, sigmas, pop_mu, pop_sigma, burn_in=0.5, thin=0.1):\n",
    "    mus_good = mus[int(burn_in * len(mus))::int(1/thin)]\n",
    "    sigmas_good = sigmas[int(burn_in * len(sigmas))::int(1/thin)]\n",
    "\n",
    "    best_guess_mu = np.median(mus_good)\n",
    "    best_guess_sigma = np.median(sigmas_good)\n",
    "    \n",
    "    n, bins, _ = plt.hist([np.median(measurement) for measurement in measurements], normed=True, label=\"Data\")\n",
    "    x = np.linspace(bins[0], bins[-1], 100)\n",
    "    \n",
    "    plt.plot(x, stats.norm(loc=best_guess_mu, scale=best_guess_sigma).pdf(x), label=\"Guess\")\n",
    "    plt.legend()\n",
    "    plt.tight_layout()\n",
    "    plt.show()\n",
    "    \n",
    "    mu_sigma_corner = np.vstack((mus_good, sigmas_good)).T\n",
    "    try:\n",
    "        figure = corner.corner(mu_sigma_corner, quantiles=[0.16, 0.5, 0.84])\n",
    "        ndim = 2\n",
    "\n",
    "        if pop_mu is not None and pop_sigma is not None:\n",
    "            # Extract the axes\n",
    "            axes = np.array(figure.axes).reshape((ndim, ndim))\n",
    "\n",
    "            value1 = np.asarray([pop_mu, pop_sigma])\n",
    "\n",
    "            # Loop over the diagonal\n",
    "            for i in range(ndim):\n",
    "                ax = axes[i, i]\n",
    "                ax.axvline(value1[i], color=\"g\")\n",
    "\n",
    "            # Loop over the histograms\n",
    "            for yi in range(ndim):\n",
    "                for xi in range(yi):\n",
    "                    ax = axes[yi, xi]\n",
    "                    ax.axvline(value1[xi], color=\"g\")\n",
    "                    ax.axhline(value1[yi], color=\"g\")\n",
    "                    ax.plot(value1[xi], value1[yi], \"sg\")\n",
    "    except:\n",
    "        print \"Cannot corner plot\"\n",
    "    plt.show()"
   ]
  },
  {
   "cell_type": "code",
   "execution_count": 44,
   "metadata": {},
   "outputs": [
    {
     "data": {
      "image/png": "[encoded data removed]",
      "text/plain": [
       "<matplotlib.figure.Figure at 0x7f747797a310>"
      ]
     },
     "metadata": {},
     "output_type": "display_data"
    },
    {
     "data": {
      "image/png": "[encoded data removed]",
      "text/plain": [
       "<matplotlib.figure.Figure at 0x7f746cb89350>"
      ]
     },
     "metadata": {},
     "output_type": "display_data"
    }
   ],
   "source": [
    "plot_sampling(thinned_data, mus, sigmas, None, None)"
   ]
  },
  {
   "cell_type": "code",
   "execution_count": 45,
   "metadata": {
    "collapsed": true
   },
   "outputs": [],
   "source": [
    "def load_data_2():\n",
    "    ret_data = []\n",
    "    \n",
    "    pulsars = glob(\"../../AAS/thinned_chains/pars_M2_SINI/*\")\n",
    "    for pulsar in pulsars:\n",
    "        chain = os.path.join(pulsar, \"chain_burn_0.5_thin_10.txt\")\n",
    "\n",
    "        length = 0\n",
    "        with open(chain, 'r') as infile:\n",
    "            for line in infile:\n",
    "                length += 1\n",
    "        \n",
    "        cosi_data = np.zeros(length)\n",
    "\n",
    "        lines = open(chain).readlines()\n",
    "        for i, line in enumerate(lines):\n",
    "            cosi_data[i] = float(line.split()[2])\n",
    "        \n",
    "        i = 0\n",
    "        with open(chain, 'r') as infile:\n",
    "            for line in infile:\n",
    "                cosi = float(line.split()[2])\n",
    "                cosi_data[i] = cosi\n",
    "                i += 1\n",
    "        \n",
    "        ret_data.append(cosi_data)\n",
    "        \n",
    "    return np.asarray(ret_data)"
   ]
  },
  {
   "cell_type": "code",
   "execution_count": 46,
   "metadata": {},
   "outputs": [
    {
     "name": "stdout",
     "output_type": "stream",
     "text": [
      "1 loop, best of 3: 25 s per loop\n"
     ]
    }
   ],
   "source": [
    "%timeit load_data_2()"
   ]
  },
  {
   "cell_type": "code",
   "execution_count": 180,
   "metadata": {},
   "outputs": [
    {
     "name": "stdout",
     "output_type": "stream",
     "text": [
      "1 loop, best of 3: 1min 19s per loop\n"
     ]
    }
   ],
   "source": [
    "%timeit load_data()"
   ]
  },
  {
   "cell_type": "code",
   "execution_count": 42,
   "metadata": {},
   "outputs": [
    {
     "data": {
      "text/plain": [
       "(array([ 1.,  0.,  0.,  1.,  0.,  0.,  1.,  0.,  0.,  1.]),\n",
       " array([ 0. ,  0.3,  0.6,  0.9,  1.2,  1.5,  1.8,  2.1,  2.4,  2.7,  3. ]),\n",
       " <a list of 10 Patch objects>)"
      ]
     },
     "execution_count": 42,
     "metadata": {},
     "output_type": "execute_result"
    },
    {
     "data": {
      "image/png": "[encoded data removed]",
      "text/plain": [
       "<matplotlib.figure.Figure at 0x7f747797a290>"
      ]
     },
     "metadata": {},
     "output_type": "display_data"
    }
   ],
   "source": [
    "plt.hist([0, 1, 2, 3])"
   ]
  },
  {
   "cell_type": "code",
   "execution_count": null,
   "metadata": {
    "collapsed": true
   },
   "outputs": [],
   "source": []
  }
 ],
 "metadata": {
  "kernelspec": {
   "display_name": "Python 2",
   "language": "python",
   "name": "python2"
  },
  "language_info": {
   "codemirror_mode": {
    "name": "ipython",
    "version": 2
   },
   "file_extension": ".py",
   "mimetype": "text/x-python",
   "name": "python",
   "nbconvert_exporter": "python",
   "pygments_lexer": "ipython2",
   "version": "2.7.13"
  }
 },
 "nbformat": 4,
 "nbformat_minor": 2
}
