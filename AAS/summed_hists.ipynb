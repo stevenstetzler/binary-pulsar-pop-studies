{
 "cells": [
  {
   "cell_type": "code",
   "execution_count": 57,
   "metadata": {
    "collapsed": true
   },
   "outputs": [],
   "source": [
    "import numpy as np\n",
    "import cPickle as pickle\n",
    "import scipy.ndimage.filters as filters\n",
    "from scipy.interpolate import interp1d\n",
    "from matplotlib import pyplot as plt\n",
    "plt.rc('font', size=50)\n",
    "from matplotlib.backends.backend_pdf import PdfPages\n",
    "%matplotlib inline"
   ]
  },
  {
   "cell_type": "code",
   "execution_count": 6,
   "metadata": {
    "collapsed": true
   },
   "outputs": [],
   "source": [
    "pulsar_dicts_m2, _ = pickle.load(open(\"/.lustre/aoc/students/sstetzle/long_simulations/dicts_M2_SINI/pars_M2_SINI_pulsar_chain_dict.pkl\", \"rb\"))\n",
    "pulsar_dicts_stig, _ = pickle.load(open(\"/.lustre/aoc/students/sstetzle/long_simulations/dicts/pars_H3_STIG_pulsar_chain_dict.pkl\", \"rb\"))\n",
    "\n",
    "def get_chains(PSR, burn=0.25, thin=10):    \n",
    "    try:\n",
    "        with open(\"thinned_chains/pars_H3_H4/{}/chain_burn_{}_thin_{}.txt\".format(PSR, burn, thin), \"r\") as infile:\n",
    "            data = np.loadtxt(infile)\n",
    "            key_h3_h4 = 'H3 H4'\n",
    "            cosi_h3_h4 = data[:, 2]\n",
    "    except:\n",
    "        key_h3_h4 = 'H3 H4 (missing)'\n",
    "        cosi_h3_h4 = []\n",
    "\n",
    "    try:\n",
    "        with open(\"thinned_chains/pars_M2_SINI/{}/chain_burn_{}_thin_{}.txt\".format(PSR, burn, thin), \"r\") as infile:\n",
    "            data = np.loadtxt(infile)\n",
    "            key_m2_sini = 'M2 SINI'\n",
    "            cosi_m2_sini = data[:, 2]\n",
    "    except:\n",
    "        if PSR in pulsar_dicts_m2.keys():\n",
    "            _, _, m2_par_dict = pulsar_dicts_m2[PSR]\n",
    "            key_m2_sini = 'M2 SINI (old)'\n",
    "            cosi_m2_sini = m2_par_dict['COSI']\n",
    "        else:\n",
    "            key_m2_sini = 'M2 SINI (missing)'\n",
    "            cosi_m2_sini = []\n",
    "            \n",
    "    try:\n",
    "        with open(\"thinned_chains/pars_H3_STIG/{}/chain_burn_{}_thin_{}.txt\".format(PSR, burn, thin), \"r\") as infile:\n",
    "            data = np.loadtxt(infile)\n",
    "            key_h3_stig = 'H3 STIG'\n",
    "            cosi_h3_stig = data[:, 2]\n",
    "    except:\n",
    "        if PSR in pulsar_dicts_stig.keys():\n",
    "            _, _, stig_par_dict = pulsar_dicts_stig[PSR]\n",
    "            key_h3_stig = 'H3 STIG (old)'\n",
    "            cosi_h3_stig = stig_par_dict['COSI']\n",
    "        else:\n",
    "            key_h3_stig = 'H3 STIG (missing)'\n",
    "            cosi_h3_stig = []\n",
    "    \n",
    "    return {key_h3_h4:cosi_h3_h4, key_m2_sini:cosi_m2_sini, key_h3_stig:cosi_h3_stig}"
   ]
  },
  {
   "cell_type": "code",
   "execution_count": 75,
   "metadata": {
    "collapsed": true
   },
   "outputs": [],
   "source": [
    "def smooth_plot(par_chain, plot_title, nbins=100, sigma=1, pdfout=None, pngout=None, show_unif=False):\n",
    "    vals, binedges = np.histogram(par_chain, bins=nbins, density=True, range=(0, 1))\n",
    "    bins = binedges[:-1] + (binedges[1] - binedges[0]) / 2\n",
    "    vals = filters.gaussian_filter(vals, sigma=sigma)\n",
    "    f = interp1d(bins, vals, kind='cubic')\n",
    "\n",
    "    pdf = f(bins)\n",
    "    pdf = np.divide(pdf, np.sum(pdf))\n",
    "\n",
    "    cdf = [np.sum(pdf[:i]) for i in range(len(pdf))]\n",
    "\n",
    "    fig = plt.figure(\"pdf\", figsize=(6, 4), dpi=100)\n",
    "\n",
    "    a = plt.plot(bins, f(bins), 'b--', lw=3, zorder=2, label=\"Smoothed PDF\")\n",
    "    if show_unif:\n",
    "        plt.plot(np.linspace(0, 1, 1000), np.ones(1000)*sum(f(bins))/nbins, '--', color='orange', lw=3, zorder=1)\n",
    "    \n",
    "    fig.axes[0].get_yaxis().set_visible(False)\n",
    "    plt.xlabel(\"COSI\")\n",
    "    plt.title(plot_title)\n",
    "    if pdfout is not None:\n",
    "        pdfout.savefig()\n",
    "        plt.close()\n",
    "    if pngout is not None:\n",
    "        plt.savefig(pngout)\n",
    "        plt.close()"
   ]
  },
  {
   "cell_type": "code",
   "execution_count": 7,
   "metadata": {
    "collapsed": true
   },
   "outputs": [],
   "source": [
    "all_pulsars = np.genfromtxt(\"all_pulsars.txt\", dtype=str)\n",
    "good_pulsars = np.genfromtxt(\"good_pulsars.txt\", dtype=str)"
   ]
  },
  {
   "cell_type": "code",
   "execution_count": 8,
   "metadata": {
    "collapsed": true
   },
   "outputs": [],
   "source": [
    "all_chains = [get_chains(pulsar, burn=0.5, thin=10) for pulsar in all_pulsars]\n",
    "good_chains = [get_chains(pulsar, burn=0.5, thin=10) for pulsar in good_pulsars]"
   ]
  },
  {
   "cell_type": "code",
   "execution_count": 10,
   "metadata": {
    "collapsed": true
   },
   "outputs": [],
   "source": [
    "all_chains_m2 = [c[c.keys()[1]] for c in all_chains]\n",
    "all_chains_stig = [c[c.keys()[2]] for c in all_chains]"
   ]
  },
  {
   "cell_type": "code",
   "execution_count": 11,
   "metadata": {
    "collapsed": true
   },
   "outputs": [],
   "source": [
    "good_chains_m2 = [c[c.keys()[1]] for c in good_chains]\n",
    "good_chains_stig = [c[c.keys()[2]] for c in good_chains]"
   ]
  },
  {
   "cell_type": "code",
   "execution_count": 22,
   "metadata": {
    "collapsed": true
   },
   "outputs": [],
   "source": [
    "all_chains_m2 = [c for c in all_chains_m2 if len(c) > 0]\n",
    "all_chains_stig = [c for c in all_chains_stig if len(c) > 0]\n",
    "\n",
    "good_chains_m2 = [c for c in good_chains_m2 if len(c) > 0]\n",
    "good_chains_stig = [c for c in good_chains_stig if len(c) > 0]\n",
    "\n",
    "all_min_length_m2 = min([len(c) for c in all_chains_m2])\n",
    "all_min_length_stig = min([len(c) for c in all_chains_stig])\n",
    "\n",
    "all_adjusted_chains_m2 = [c[0:all_min_length_m2] for c in all_chains_m2]\n",
    "all_adjusted_chains_stig = [c[0:all_min_length_stig] for c in all_chains_stig]\n",
    "\n",
    "good_min_length_m2 = min([len(c) for c in good_chains_m2])\n",
    "good_min_length_stig = min([len(c) for c in good_chains_stig])\n",
    "\n",
    "good_adjusted_chains_m2 = [c[0:good_min_length_m2] for c in good_chains_m2]\n",
    "good_adjusted_chains_stig = [c[0:good_min_length_stig] for c in good_chains_stig]\n",
    "\n",
    "all_comp_chain_m2 = np.hstack(all_adjusted_chains_m2)\n",
    "all_comp_chain_stig = np.hstack(all_adjusted_chains_stig)\n",
    "\n",
    "good_comp_chain_m2 = np.hstack(good_adjusted_chains_m2)\n",
    "good_comp_chain_stig = np.hstack(good_adjusted_chains_stig)"
   ]
  },
  {
   "cell_type": "code",
   "execution_count": 59,
   "metadata": {
    "collapsed": true
   },
   "outputs": [],
   "source": [
    "smooth_plot(all_comp_chain_m2, \"All Pulsars\", pngout=\"all_pulsars_summed.png\")"
   ]
  },
  {
   "cell_type": "code",
   "execution_count": 31,
   "metadata": {},
   "outputs": [
    {
     "data": {
      "image/png": "[encoded data removed]",
      "text/plain": [
       "<matplotlib.figure.Figure at 0x7f8a500e9b50>"
      ]
     },
     "metadata": {},
     "output_type": "display_data"
    }
   ],
   "source": [
    "smooth_plot(all_comp_chain_stig, \"All Pulsars H3 STIG\")"
   ]
  },
  {
   "cell_type": "code",
   "execution_count": 80,
   "metadata": {
    "collapsed": true
   },
   "outputs": [],
   "source": [
    "smooth_plot(good_comp_chain_m2, \"Combined COSI Probability Distribution\", pngout=\"good_pulsars_summed.png\", show_unif=True)"
   ]
  },
  {
   "cell_type": "code",
   "execution_count": 77,
   "metadata": {},
   "outputs": [
    {
     "data": {
      "image/png": "[encoded data removed]",
      "text/plain": [
       "<matplotlib.figure.Figure at 0x7f8a47d9ac50>"
      ]
     },
     "metadata": {},
     "output_type": "display_data"
    }
   ],
   "source": [
    "smooth_plot(good_comp_chain_m2, \"Good pulsars H3 STIG\", show_unif=True)"
   ]
  },
  {
   "cell_type": "code",
   "execution_count": 79,
   "metadata": {},
   "outputs": [
    {
     "data": {
      "text/plain": [
       "14"
      ]
     },
     "execution_count": 79,
     "metadata": {},
     "output_type": "execute_result"
    }
   ],
   "source": [
    "len(good_chains_m2)"
   ]
  },
  {
   "cell_type": "code",
   "execution_count": null,
   "metadata": {
    "collapsed": true
   },
   "outputs": [],
   "source": []
  }
 ],
 "metadata": {
  "kernelspec": {
   "display_name": "Python 2",
   "language": "python",
   "name": "python2"
  },
  "language_info": {
   "codemirror_mode": {
    "name": "ipython",
    "version": 2
   },
   "file_extension": ".py",
   "mimetype": "text/x-python",
   "name": "python",
   "nbconvert_exporter": "python",
   "pygments_lexer": "ipython2",
   "version": "2.7.13"
  }
 },
 "nbformat": 4,
 "nbformat_minor": 2
}
