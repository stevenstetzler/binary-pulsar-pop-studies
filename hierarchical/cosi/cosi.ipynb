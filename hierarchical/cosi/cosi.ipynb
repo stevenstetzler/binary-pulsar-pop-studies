{
 "cells": [
  {
   "cell_type": "code",
   "execution_count": 171,
   "metadata": {
    "collapsed": true
   },
   "outputs": [],
   "source": [
    "from scipy import stats\n",
    "from scipy.special import gamma\n",
    "from scipy.stats import expon\n",
    "import numpy as np\n",
    "np.seterr(divide='ignore', invalid='ignore')\n",
    "import math\n",
    "from matplotlib import pyplot as plt\n",
    "%matplotlib inline\n",
    "import corner\n",
    "from glob import glob\n",
    "import os"
   ]
  },
  {
   "cell_type": "code",
   "execution_count": 18,
   "metadata": {
    "collapsed": true
   },
   "outputs": [],
   "source": [
    "def alpha_lgprior(alpha, beta):\n",
    "    if alpha + beta < 0:\n",
    "        return -np.inf\n",
    "    if alpha < 0:\n",
    "        return -np.inf\n",
    "    if alpha + beta > 20:\n",
    "        return -np.inf\n",
    "    if alpha > 20:\n",
    "        return -np.inf\n",
    "    return 0\n",
    "\n",
    "\n",
    "def alpha_lglike(samples, alpha, beta):\n",
    "    return len(samples) * (math.log(gamma(alpha + beta)) - math.log(gamma(alpha))) + np.sum(alpha * np.log(samples))\n",
    "\n",
    "\n",
    "# log-posterior for P(alpha | beta, samples)\n",
    "def alpha_lgprob(alpha, beta, samples):\n",
    "    # l(alpha | beta, samples) ~ l(alpha, beta) + l(samples | alpha, beta)\n",
    "    return alpha_lgprior(alpha, beta) + alpha_lglike(samples, alpha, beta)\n",
    "\n",
    "\n",
    "def get_alpha(alpha, beta, samples):\n",
    "    # Draw new alpha from proposal distribution\n",
    "    prop = expon(scale=4)\n",
    "    \n",
    "    new_alpha = prop.rvs(1)[0]\n",
    "    \n",
    "    prob_new_alpha = prop.pdf(new_alpha)\n",
    "    prob_old_alpha = prop.pdf(alpha)\n",
    "    \n",
    "    # MH-Step\n",
    "    # a = a_1 * a_2\n",
    "    # a_1 = P(new) / P(old)\n",
    "    # a_2 = Q(old) / Q(new)\n",
    "    # Accept with prob a if a <= 1\n",
    "    # lg(a) = lg(a_1) + lg(a2)\n",
    "    # lg(a) = lg(P(new)) - lg(P(old)) + lg(Q(old)) - lg(Q(new))\n",
    "    # Accept with prob a if lg(a) <= 0\n",
    "    \n",
    "    lg_a1 = alpha_lgprob(new_alpha, beta, samples) - alpha_lgprob(alpha, beta, samples)\n",
    "    \n",
    "    lg_a2 = math.log(prob_old_alpha) - math.log(prob_new_alpha)\n",
    "    \n",
    "    lg_a = lg_a1 + lg_a2\n",
    "\n",
    "    if lg_a > 1:\n",
    "        return new_alpha\n",
    "    else:\n",
    "        lg_r = math.log(np.random.uniform())\n",
    "        if lg_r < lg_a:\n",
    "            return new_alpha\n",
    "        else:\n",
    "            return alpha"
   ]
  },
  {
   "cell_type": "code",
   "execution_count": 19,
   "metadata": {
    "collapsed": true
   },
   "outputs": [],
   "source": [
    "def beta_lgprior(alpha, beta):\n",
    "    if alpha + beta < 0:\n",
    "        return -np.inf\n",
    "    if beta < 0:\n",
    "        return -np.inf\n",
    "    if alpha + beta > 20:\n",
    "        return -np.inf\n",
    "    if beta > 20:\n",
    "        return -np.inf\n",
    "    return 0\n",
    "\n",
    "\n",
    "def beta_lglike(samples, alpha, beta):\n",
    "    return len(samples) * (math.log(gamma(alpha + beta)) - math.log(gamma(beta))) + np.sum(beta * np.log(1 - samples))\n",
    "\n",
    "\n",
    "# log-posterior for P(alpha | beta, samples)\n",
    "def beta_lgprob(alpha, beta, samples):        \n",
    "    # l(beta | alpha, samples) ~ l(alpha, beta) + l(samples | alpha, beta)\n",
    "    return beta_lgprior(alpha, beta) + beta_lglike(samples, alpha, beta)\n",
    "\n",
    "\n",
    "def get_beta(alpha, beta, samples):    \n",
    "    # Draw new beta from proposal distribution\n",
    "    prop = expon(scale=4)\n",
    "    \n",
    "    new_beta = prop.rvs(1)[0]\n",
    "    \n",
    "    prob_new_beta = prop.pdf(new_beta)\n",
    "    prob_old_beta = prop.pdf(beta)\n",
    "    \n",
    "    # MH-Step\n",
    "    # a = a_1 * a_2\n",
    "    # a_1 = P(new) / P(old)\n",
    "    # a_2 = Q(old) / Q(new)\n",
    "    # Accept with prob a if a <= 1\n",
    "    # lg(a) = lg(a_1) + lg(a2)\n",
    "    # lg(a) = lg(P(new)) - lg(P(old)) + lg(Q(old)) - lg(Q(new))\n",
    "    # Accept with prob a if lg(a) <= 0\n",
    "    \n",
    "    lg_a1 = beta_lgprob(alpha, new_beta, samples) - beta_lgprob(alpha, beta, samples)\n",
    "        \n",
    "    lg_a2 = math.log(prob_old_beta) - math.log(prob_new_beta)\n",
    "            \n",
    "    lg_a = lg_a1 + lg_a2\n",
    "\n",
    "    if lg_a > 0:\n",
    "        return new_beta\n",
    "    else:\n",
    "        lg_r = math.log(np.random.uniform())\n",
    "        if lg_r < lg_a:\n",
    "            return new_beta\n",
    "        else:\n",
    "            return beta"
   ]
  },
  {
   "cell_type": "code",
   "execution_count": 37,
   "metadata": {
    "collapsed": true
   },
   "outputs": [],
   "source": [
    "def load_data():\n",
    "    ret_data = []\n",
    "    \n",
    "    pulsars = glob(\"../../AAS/thinned_chains/pars_M2_SINI/*\")\n",
    "    for pulsar in pulsars:\n",
    "        chain = os.path.join(pulsar, \"chain_burn_0.5_thin_10.txt\")\n",
    "        chain_data = np.genfromtxt(chain)\n",
    "        cosi_data = chain_data[:, 2]\n",
    "        ret_data.append(cosi_data)\n",
    "        \n",
    "    return np.asarray(ret_data)"
   ]
  },
  {
   "cell_type": "code",
   "execution_count": 129,
   "metadata": {
    "collapsed": true
   },
   "outputs": [],
   "source": [
    "def thin_data(measurements, num_points=5000):\n",
    "    ret_data = []\n",
    "    for measurement in measurements:\n",
    "        if len(measurement) < num_points:\n",
    "            ret_data.append(measurement)\n",
    "            continue\n",
    "        \n",
    "        ret_data.append(measurement[::int(len(measurement) / num_points)])\n",
    "    return np.asarray(ret_data)"
   ]
  },
  {
   "cell_type": "code",
   "execution_count": null,
   "metadata": {
    "collapsed": true
   },
   "outputs": [],
   "source": [
    "cosi_vals = load_data()"
   ]
  },
  {
   "cell_type": "code",
   "execution_count": 71,
   "metadata": {
    "collapsed": true
   },
   "outputs": [],
   "source": [
    "def get_samples(alpha, beta, measurements):\n",
    "    guess = stats.beta(alpha, beta)\n",
    "    # Draw new samples from P(COSI_i | alpha, beta)\n",
    "    N = measurements.shape[0]\n",
    "    samples = np.zeros(N)\n",
    "    \n",
    "    for i, measurement in enumerate(measurements):\n",
    "        probs = guess.pdf(measurement)\n",
    "        probs /= np.sum(probs)\n",
    "        samples[i] = np.random.choice(measurement, p=probs)\n",
    "    \n",
    "    return samples"
   ]
  },
  {
   "cell_type": "code",
   "execution_count": 137,
   "metadata": {
    "collapsed": true
   },
   "outputs": [],
   "source": [
    "def sample(measurements, niter=1000, guess_alpha=1.0, guess_beta=1.0):\n",
    "    alphas = np.zeros(niter)\n",
    "    betas = np.zeros(niter)\n",
    "    \n",
    "    alphas[0] = guess_alpha\n",
    "    betas[0] = guess_beta\n",
    "\n",
    "    # Gibbs Sampling\n",
    "    for i in range(1, niter):\n",
    "        if i % 100 == 0:\n",
    "            print \"{0:0.1f}% Done                   \\r\".format(100. * i / float(niter)),\n",
    "\n",
    "        # Draw x_i ~ P(x_i | alpha_i-1, beta_i-1)\n",
    "        samples = get_samples(alphas[i - 1], betas[i - 1], measurements)\n",
    "        \n",
    "        # Draw alpha_i ~ P(alpha_i | x_i, beta_i-1)\n",
    "        alphas[i] = get_alpha(alphas[i - 1], betas[i - 1], samples)\n",
    "        \n",
    "        # Draw beta_i ~ P(beta_i | x_i, alpha_i)\n",
    "        betas[i] = get_beta(alphas[i], betas[i - 1], samples)\n",
    "    \n",
    "    return alphas, betas"
   ]
  },
  {
   "cell_type": "code",
   "execution_count": 165,
   "metadata": {},
   "outputs": [
    {
     "name": "stdout",
     "output_type": "stream",
     "text": [
      "99.0% Done                   \r"
     ]
    }
   ],
   "source": [
    "thinned_data = thin_data(cosi_vals)\n",
    "alphas, betas = sample(thinned_data, niter=10000)"
   ]
  },
  {
   "cell_type": "code",
   "execution_count": 163,
   "metadata": {
    "collapsed": true
   },
   "outputs": [],
   "source": [
    "def plot_sampling(measurements, alphas, betas, pop_alpha, pop_beta, burn_in=0.5, thin=0.1):\n",
    "    alphas_good = alphas[int(burn_in * len(alphas))::int(1/thin)]\n",
    "    betas_good = betas[int(burn_in * len(betas))::int(1/thin)]\n",
    "\n",
    "    best_guess_alpha = np.median(alphas_good)\n",
    "    best_guess_beta = np.median(betas_good)\n",
    "    \n",
    "    plt.hist([np.median(measurement) for measurement in measurements], normed=True, label=\"Data\")\n",
    "    plt.plot(np.linspace(0, 1, 100), stats.beta(best_guess_alpha, best_guess_beta).pdf(np.linspace(0, 1, 100)), label=\"Guess\")\n",
    "    plt.legend()\n",
    "    plt.tight_layout()\n",
    "    plt.show()\n",
    "    \n",
    "    alpha_beta_corner = np.vstack((alphas_good, betas_good)).T\n",
    "    try:\n",
    "        figure = corner.corner(alpha_beta_corner, quantiles=[0.16, 0.5, 0.84])\n",
    "        ndim = 2\n",
    "        # Extract the axes\n",
    "        axes = np.array(figure.axes).reshape((ndim, ndim))\n",
    "\n",
    "        value1 = np.asarray([pop_alpha, pop_beta])\n",
    "\n",
    "        # Loop over the diagonal\n",
    "        for i in range(ndim):\n",
    "            ax = axes[i, i]\n",
    "            ax.axvline(value1[i], color=\"g\")\n",
    "\n",
    "        # Loop over the histograms\n",
    "        for yi in range(ndim):\n",
    "            for xi in range(yi):\n",
    "                ax = axes[yi, xi]\n",
    "                ax.axvline(value1[xi], color=\"g\")\n",
    "                ax.axhline(value1[yi], color=\"g\")\n",
    "                ax.plot(value1[xi], value1[yi], \"sg\")\n",
    "    except:\n",
    "        print \"Cannot corner plot\"\n",
    "    plt.show()"
   ]
  },
  {
   "cell_type": "code",
   "execution_count": 174,
   "metadata": {},
   "outputs": [
    {
     "data": {
      "image/png": "[encoded data removed]",
      "text/plain": [
       "<matplotlib.figure.Figure at 0x7f38f78a13d0>"
      ]
     },
     "metadata": {},
     "output_type": "display_data"
    },
    {
     "data": {
      "image/png": "[encoded data removed]",
      "text/plain": [
       "<matplotlib.figure.Figure at 0x7f38f619f690>"
      ]
     },
     "metadata": {},
     "output_type": "display_data"
    }
   ],
   "source": [
    "plot_sampling(thinned_data, alphas, betas, 1, 1)"
   ]
  },
  {
   "cell_type": "code",
   "execution_count": 177,
   "metadata": {
    "collapsed": true
   },
   "outputs": [],
   "source": [
    "def load_data_2():\n",
    "    ret_data = []\n",
    "    \n",
    "    pulsars = glob(\"../../AAS/thinned_chains/pars_M2_SINI/*\")\n",
    "    for pulsar in pulsars:\n",
    "        chain = os.path.join(pulsar, \"chain_burn_0.5_thin_10.txt\")\n",
    "\n",
    "        length = 0\n",
    "        with open(chain, 'r') as infile:\n",
    "            for line in infile:\n",
    "                length += 1\n",
    "        \n",
    "        cosi_data = np.zeros(length)\n",
    "\n",
    "        lines = open(chain).readlines()\n",
    "        for i, line in enumerate(lines):\n",
    "            cosi_data[i] = float(line.split()[2])\n",
    "        \n",
    "        i = 0\n",
    "        with open(chain, 'r') as infile:\n",
    "            for line in infile:\n",
    "                cosi = float(line.split()[2])\n",
    "                cosi_data[i] = cosi\n",
    "                i += 1\n",
    "        \n",
    "        ret_data.append(cosi_data)\n",
    "        \n",
    "    return np.asarray(ret_data)"
   ]
  },
  {
   "cell_type": "code",
   "execution_count": 179,
   "metadata": {},
   "outputs": [
    {
     "name": "stdout",
     "output_type": "stream",
     "text": [
      "1 loop, best of 3: 25.8 s per loop\n"
     ]
    }
   ],
   "source": [
    "%timeit load_data_2()"
   ]
  },
  {
   "cell_type": "code",
   "execution_count": 180,
   "metadata": {},
   "outputs": [
    {
     "name": "stdout",
     "output_type": "stream",
     "text": [
      "1 loop, best of 3: 1min 19s per loop\n"
     ]
    }
   ],
   "source": [
    "%timeit load_data()"
   ]
  },
  {
   "cell_type": "code",
   "execution_count": null,
   "metadata": {
    "collapsed": true
   },
   "outputs": [],
   "source": []
  }
 ],
 "metadata": {
  "kernelspec": {
   "display_name": "Python 2",
   "language": "python",
   "name": "python2"
  },
  "language_info": {
   "codemirror_mode": {
    "name": "ipython",
    "version": 2
   },
   "file_extension": ".py",
   "mimetype": "text/x-python",
   "name": "python",
   "nbconvert_exporter": "python",
   "pygments_lexer": "ipython2",
   "version": "2.7.13"
  }
 },
 "nbformat": 4,
 "nbformat_minor": 2
}
