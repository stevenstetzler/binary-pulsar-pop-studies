{
 "cells": [
  {
   "cell_type": "code",
   "execution_count": 12,
   "metadata": {
    "collapsed": true
   },
   "outputs": [],
   "source": [
    "import numpy as np\n",
    "import cPickle as pickle\n",
    "from skgof import ad_test\n",
    "from scipy.stats import uniform\n",
    "import matplotlib.pyplot as plt\n",
    "%matplotlib inline\n",
    "import scipy.ndimage.filters as filters\n",
    "from scipy.interpolate import interp1d"
   ]
  },
  {
   "cell_type": "code",
   "execution_count": 2,
   "metadata": {
    "collapsed": true
   },
   "outputs": [],
   "source": [
    "pulsar_dicts_m2, _ = pickle.load(open(\"/.lustre/aoc/students/sstetzle/long_simulations/dicts_M2_SINI/pars_M2_SINI_pulsar_chain_dict.pkl\", \"rb\"))\n",
    "pulsar_dicts_stig, _ = pickle.load(open(\"/.lustre/aoc/students/sstetzle/long_simulations/dicts/pars_H3_STIG_pulsar_chain_dict.pkl\", \"rb\"))\n",
    "\n",
    "def get_chains(PSR, burn=0.25, thin=10):    \n",
    "    try:\n",
    "        with open(\"thinned_chains/pars_H3_H4/{}/chain_burn_{}_thin_{}.txt\".format(PSR, burn, thin), \"r\") as infile:\n",
    "            data = np.loadtxt(infile)\n",
    "            key_h3_h4 = 'H3 H4'\n",
    "            cosi_h3_h4 = data[:, 2]\n",
    "    except:\n",
    "        key_h3_h4 = 'H3 H4 (missing)'\n",
    "        cosi_h3_h4 = []\n",
    "\n",
    "    try:\n",
    "        with open(\"thinned_chains/pars_M2_SINI/{}/chain_burn_{}_thin_{}.txt\".format(PSR, burn, thin), \"r\") as infile:\n",
    "            data = np.loadtxt(infile)\n",
    "            key_m2_sini = 'M2 SINI'\n",
    "            cosi_m2_sini = data[:, 2]\n",
    "    except:\n",
    "        if PSR in pulsar_dicts_m2.keys():\n",
    "            _, _, m2_par_dict = pulsar_dicts_m2[PSR]\n",
    "            key_m2_sini = 'M2 SINI (old)'\n",
    "            cosi_m2_sini = m2_par_dict['COSI']\n",
    "        else:\n",
    "            key_m2_sini = 'M2 SINI (missing)'\n",
    "            cosi_m2_sini = []\n",
    "            \n",
    "    try:\n",
    "        with open(\"thinned_chains/pars_H3_STIG/{}/chain_burn_{}_thin_{}.txt\".format(PSR, burn, thin), \"r\") as infile:\n",
    "            data = np.loadtxt(infile)\n",
    "            key_h3_stig = 'H3 STIG'\n",
    "            cosi_h3_stig = data[:, 2]\n",
    "    except:\n",
    "        if PSR in pulsar_dicts_stig.keys():\n",
    "            _, _, stig_par_dict = pulsar_dicts_stig[PSR]\n",
    "            key_h3_stig = 'H3 STIG (old)'\n",
    "            cosi_h3_stig = stig_par_dict['COSI']\n",
    "        else:\n",
    "            key_h3_stig = 'H3 STIG (missing)'\n",
    "            cosi_h3_stig = []\n",
    "    \n",
    "    return {key_h3_h4:cosi_h3_h4, key_m2_sini:cosi_m2_sini, key_h3_stig:cosi_h3_stig}"
   ]
  },
  {
   "cell_type": "code",
   "execution_count": 36,
   "metadata": {
    "collapsed": true
   },
   "outputs": [],
   "source": [
    "def smooth_plot(par_chain, plot_title, nbins=100, sigma=1, pdfout=None):\n",
    "    vals, binedges = np.histogram(par_chain, bins=nbins, density=True)\n",
    "    bins = binedges[:-1] + (binedges[1] - binedges[0]) / 2\n",
    "    vals = filters.gaussian_filter(vals, sigma=sigma)\n",
    "    f = interp1d(bins, vals, kind='cubic')\n",
    "\n",
    "    pdf = f(bins)\n",
    "    pdf = np.divide(pdf, np.sum(pdf))\n",
    "\n",
    "    cdf = [np.sum(pdf[:i]) for i in range(len(pdf))]\n",
    "\n",
    "    fig = plt.figure(\"pdf\", figsize=(6, 4), dpi=100)\n",
    "\n",
    "    a = plt.plot(bins, f(bins), 'b--', lw=2, zorder=1, label=\"Smoothed PDF\")\n",
    "    fig.axes[0].get_yaxis().set_visible(False)\n",
    "    plt.xlabel(\"p-value\")\n",
    "    plt.title(plot_title)\n",
    "    if pdfout is not None:\n",
    "        pdfout.savefig()\n",
    "        plt.close()"
   ]
  },
  {
   "cell_type": "code",
   "execution_count": 38,
   "metadata": {
    "collapsed": true
   },
   "outputs": [],
   "source": [
    "def p_hist(p_vals, plot_title, nbins=50, pngout=None):\n",
    "    fig = plt.figure(\"p_hist\", figsize=(6, 4), dpi=100)\n",
    "    a = plt.hist(p_vals, bins=nbins)\n",
    "    fig.axes[0].get_yaxis().set_visible(False)\n",
    "    plt.xlabel(\"p-value\")\n",
    "    plt.title(plot_title)\n",
    "    if pngout is not None:\n",
    "        plt.savefig(pngout)\n",
    "        plt.close()"
   ]
  },
  {
   "cell_type": "code",
   "execution_count": 3,
   "metadata": {
    "collapsed": true
   },
   "outputs": [],
   "source": [
    "all_pulsars = np.genfromtxt(\"all_pulsars.txt\", dtype=str)\n",
    "good_pulsars = np.genfromtxt(\"good_pulsars.txt\", dtype=str)"
   ]
  },
  {
   "cell_type": "code",
   "execution_count": 4,
   "metadata": {
    "collapsed": true
   },
   "outputs": [],
   "source": [
    "all_chains = [get_chains(p) for p in all_pulsars]\n",
    "good_chains = [get_chains(p) for p in good_pulsars]"
   ]
  },
  {
   "cell_type": "code",
   "execution_count": 5,
   "metadata": {
    "collapsed": true
   },
   "outputs": [],
   "source": [
    "# all_chains_h3_h4 = [c[c.keys()[0]] for c in all_chains]\n",
    "all_chains_m2 = [c[c.keys()[1]] for c in all_chains]\n",
    "all_chains_stig = [c[c.keys()[2]] for c in all_chains]"
   ]
  },
  {
   "cell_type": "code",
   "execution_count": 6,
   "metadata": {
    "collapsed": true
   },
   "outputs": [],
   "source": [
    "# good_chains_h3_h4 = [c[c.keys()[0]] for c in good_pulsars]\n",
    "good_chains_m2 = [c[c.keys()[1]] for c in good_chains]\n",
    "good_chains_stig = [c[c.keys()[2]] for c in good_chains]"
   ]
  },
  {
   "cell_type": "code",
   "execution_count": 31,
   "metadata": {
    "collapsed": true
   },
   "outputs": [],
   "source": [
    "all_chains_m2 = [c for c in all_chains_m2 if len(c) > 0]\n",
    "all_chains_stig = [c for c in all_chains_stig if len(c) > 0]\n",
    "\n",
    "good_chains_m2 = [c for c in good_chains_m2 if len(c) > 0]\n",
    "good_chains_stig = [c for c in good_chains_stig if len(c) > 0]\n",
    "\n",
    "N = 50000\n",
    "\n",
    "p_vals_all_m2 = np.zeros(N)\n",
    "p_vals_all_stig = np.zeros(N)\n",
    "\n",
    "p_vals_good_m2 = np.zeros(N)\n",
    "p_vals_good_stig = np.zeros(N)\n",
    "\n",
    "compare_dist = uniform(0, 1)\n",
    "for i in range(N):\n",
    "    samples_all_m2 = [np.random.choice(c) for c in all_chains_m2]\n",
    "    samples_all_stig = [np.random.choice(c) for c in all_chains_stig]\n",
    "   \n",
    "    samples_good_m2 = [np.random.choice(c) for c in good_chains_m2]\n",
    "    samples_good_stig = [np.random.choice(c) for c in good_chains_stig]\n",
    "    \n",
    "    _, p_val_all_m2 = ad_test(samples_all_m2, compare_dist)\n",
    "    _, p_val_all_stig = ad_test(samples_all_stig, compare_dist)\n",
    "    \n",
    "    _, p_val_good_m2 = ad_test(samples_good_m2, compare_dist)\n",
    "    _, p_val_good_stig = ad_test(samples_good_stig, compare_dist)\n",
    "    \n",
    "    p_vals_all_m2[i] = p_val_all_m2\n",
    "    p_vals_all_stig[i] = p_val_all_stig\n",
    "    \n",
    "    p_vals_good_m2[i] = p_val_good_m2\n",
    "    p_vals_good_stig[i] = p_val_good_stig"
   ]
  },
  {
   "cell_type": "code",
   "execution_count": 32,
   "metadata": {},
   "outputs": [
    {
     "data": {
      "image/png": "[encoded data removed]",
      "text/plain": [
       "<matplotlib.figure.Figure at 0x7f26e81b8610>"
      ]
     },
     "metadata": {},
     "output_type": "display_data"
    }
   ],
   "source": [
    "p_hist(p_vals_all_m2, \"P-Values All Pulsars M2 SINI\")"
   ]
  },
  {
   "cell_type": "code",
   "execution_count": 33,
   "metadata": {},
   "outputs": [
    {
     "data": {
      "image/png": "[encoded data removed]",
      "text/plain": [
       "<matplotlib.figure.Figure at 0x7f26e7d56c50>"
      ]
     },
     "metadata": {},
     "output_type": "display_data"
    }
   ],
   "source": [
    "p_hist(p_vals_all_stig, \"P-Values All Pulsars H3 STIG\")"
   ]
  },
  {
   "cell_type": "code",
   "execution_count": 40,
   "metadata": {
    "collapsed": true
   },
   "outputs": [],
   "source": [
    "p_hist(p_vals_good_m2, \"P-values from Anderson-Darling Test\", pngout=\"good_p_val.png\")"
   ]
  },
  {
   "cell_type": "code",
   "execution_count": 35,
   "metadata": {},
   "outputs": [
    {
     "data": {
      "image/png": "[encoded data removed]",
      "text/plain": [
       "<matplotlib.figure.Figure at 0x7f26e8210450>"
      ]
     },
     "metadata": {},
     "output_type": "display_data"
    }
   ],
   "source": [
    "p_hist(p_vals_good_stig, \"P-Values Good Pulsars H3 STIG\")"
   ]
  }
 ],
 "metadata": {
  "kernelspec": {
   "display_name": "Python 2",
   "language": "python",
   "name": "python2"
  },
  "language_info": {
   "codemirror_mode": {
    "name": "ipython",
    "version": 2
   },
   "file_extension": ".py",
   "mimetype": "text/x-python",
   "name": "python",
   "nbconvert_exporter": "python",
   "pygments_lexer": "ipython2",
   "version": "2.7.13"
  }
 },
 "nbformat": 4,
 "nbformat_minor": 2
}
