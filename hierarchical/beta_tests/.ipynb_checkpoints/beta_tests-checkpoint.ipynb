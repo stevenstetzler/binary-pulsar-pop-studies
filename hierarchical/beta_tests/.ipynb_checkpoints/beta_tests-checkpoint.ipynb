{
 "cells": [
  {
   "cell_type": "code",
   "execution_count": 1,
   "metadata": {
    "collapsed": true
   },
   "outputs": [],
   "source": [
    "from scipy import stats\n",
    "from scipy.special import gamma\n",
    "from scipy.stats import expon\n",
    "import numpy as np\n",
    "np.seterr(divide='ignore', invalid='ignore')\n",
    "import math\n",
    "from matplotlib import pyplot as plt\n",
    "%matplotlib inline\n",
    "import corner"
   ]
  },
  {
   "cell_type": "code",
   "execution_count": 2,
   "metadata": {
    "collapsed": true
   },
   "outputs": [],
   "source": [
    "def get_measurements(alpha, beta, N=30, noise_draws=100, plot=False):\n",
    "    dist = stats.beta(alpha, beta)\n",
    "    measurements = np.zeros((N, noise_draws))\n",
    "    for i in range(N):\n",
    "        cosi = dist.rvs(1)[0]\n",
    "        noise = stats.norm(cosi, 0.05).rvs(noise_draws)\n",
    "        measurements[i] = noise\n",
    "    if plot:\n",
    "        plt.hist(np.median(measurements, axis=1), normed=True, label=\"Data\")\n",
    "        plt.plot(np.linspace(0, 1, 1000), dist.pdf(np.linspace(0, 1, 1000)), label=\"Population\")\n",
    "        plt.legend()\n",
    "    return measurements"
   ]
  },
  {
   "cell_type": "code",
   "execution_count": 3,
   "metadata": {
    "collapsed": true
   },
   "outputs": [],
   "source": [
    "def get_samples(alpha, beta, measurements):\n",
    "    guess = stats.beta(alpha, beta)\n",
    "    # Draw new samples from P(COSI_i | alpha, beta)\n",
    "    N = len(measurements)\n",
    "    samples = np.zeros(N)\n",
    "    for i in range(N):\n",
    "        probs = guess.pdf(measurements[i])\n",
    "        probs /= np.sum(probs)\n",
    "        samples[i] = np.random.choice(measurements[i], p=probs)\n",
    "    return samples"
   ]
  },
  {
   "cell_type": "code",
   "execution_count": 4,
   "metadata": {
    "collapsed": true
   },
   "outputs": [],
   "source": [
    "def get_alpha(alpha, beta, samples):\n",
    "    \n",
    "    def _lgprior(alpha, beta):\n",
    "        return math.log(1)\n",
    "    \n",
    "    def _lglike(samples, alpha, beta):\n",
    "        return len(samples) * (math.log(gamma(alpha + beta)) - math.log(gamma(alpha))) + np.sum(alpha * np.log(samples))\n",
    "\n",
    "    # log-posterior for P(alpha | beta, samples)\n",
    "    def _lgprob(alpha, beta, samples):\n",
    "        if alpha + beta < 0:\n",
    "            return -np.inf\n",
    "        if alpha < 0:\n",
    "            return -np.inf\n",
    "        if alpha + beta > 20:\n",
    "            return -np.inf\n",
    "        if alpha > 20:\n",
    "            return -np.inf\n",
    "        \n",
    "        # l(alpha | beta, samples) ~ l(alpha, beta) + l(samples | alpha, beta)\n",
    "        return _lgprior(alpha, beta) + _lglike(samples, alpha, beta)\n",
    "\n",
    "    # Draw new alpha from proposal distribution\n",
    "    prop = expon(scale=1/0.25)\n",
    "    \n",
    "    new_alpha = prop.rvs(1)[0]\n",
    "    \n",
    "    prob_new_alpha = prop.pdf(new_alpha)\n",
    "    prob_old_alpha = prop.pdf(alpha)\n",
    "    \n",
    "    # MH-Step\n",
    "    # a = a_1 * a_2\n",
    "    # a_1 = P(new) / P(old)\n",
    "    # a_2 = Q(old) / Q(new)\n",
    "    # Accept with prob a if a <= 1\n",
    "    # lg(a) = lg(a_1) + lg(a2)\n",
    "    # lg(a) = lg(P(new)) - lg(P(old)) + lg(Q(old)) - lg(Q(new))\n",
    "    # Accept with prob a if lg(a) <= 0\n",
    "    \n",
    "    lg_a1 = _lgprob(new_alpha, beta, samples) - _lgprob(alpha, beta, samples)\n",
    "    \n",
    "    lg_a2 = math.log(prob_old_alpha) - math.log(prob_new_alpha)\n",
    "    \n",
    "    lg_a = lg_a1 + lg_a2\n",
    "\n",
    "    # How to do this step with log???\n",
    "    a = math.exp(lg_a)\n",
    "\n",
    "    if a > 1:\n",
    "        return new_alpha\n",
    "    else:\n",
    "        r = np.random.uniform()\n",
    "        if r < a:\n",
    "            return new_alpha\n",
    "        else:\n",
    "            return alpha"
   ]
  },
  {
   "cell_type": "code",
   "execution_count": 5,
   "metadata": {
    "collapsed": true
   },
   "outputs": [],
   "source": [
    "def get_beta(alpha, beta, samples):\n",
    "    \n",
    "    def _lgprior(alpha, beta):\n",
    "        return math.log(1)\n",
    "    \n",
    "    def _lglike(samples, alpha, beta):\n",
    "        if alpha + beta < 0:\n",
    "            return -np.inf\n",
    "        if beta < 0:\n",
    "            return -np.inf\n",
    "        if alpha + beta > 20:\n",
    "            return -np.inf\n",
    "        if beta > 20:\n",
    "            return -np.inf\n",
    "\n",
    "        return len(samples) * (math.log(gamma(alpha + beta)) - math.log(gamma(beta))) + np.sum(beta * np.log(1 - samples))\n",
    "\n",
    "    # log-posterior for P(alpha | beta, samples)\n",
    "    def _lgprob(alpha, beta, samples):        \n",
    "        # l(beta | alpha, samples) ~ l(alpha, beta) + l(samples | alpha, beta)\n",
    "        return _lgprior(alpha, beta) + _lglike(samples, alpha, beta)\n",
    "    \n",
    "    # Draw new beta from proposal distribution\n",
    "    prop = expon(scale=1/0.25)\n",
    "    \n",
    "    new_beta = prop.rvs(1)[0]\n",
    "    \n",
    "    prob_new_beta = prop.pdf(new_beta)\n",
    "    prob_old_beta = prop.pdf(beta)\n",
    "    \n",
    "    # MH-Step\n",
    "    # a = a_1 * a_2\n",
    "    # a_1 = P(new) / P(old)\n",
    "    # a_2 = Q(old) / Q(new)\n",
    "    # Accept with prob a if a <= 1\n",
    "    # lg(a) = lg(a_1) + lg(a2)\n",
    "    # lg(a) = lg(P(new)) - lg(P(old)) + lg(Q(old)) - lg(Q(new))\n",
    "    # Accept with prob a if lg(a) <= 0\n",
    "    \n",
    "    lg_a1 = _lgprob(alpha, new_beta, samples) - _lgprob(alpha, beta, samples)\n",
    "        \n",
    "    lg_a2 = math.log(prob_old_beta) - math.log(prob_new_beta)\n",
    "            \n",
    "    lg_a = lg_a1 + lg_a2\n",
    "\n",
    "    # How to do this step with log???\n",
    "    a = math.exp(lg_a)\n",
    "    \n",
    "    if a > 1:\n",
    "        return new_beta\n",
    "    else:\n",
    "        r = np.random.uniform()\n",
    "        if r < a:\n",
    "            return new_beta\n",
    "        else:\n",
    "            return beta"
   ]
  },
  {
   "cell_type": "code",
   "execution_count": 6,
   "metadata": {
    "collapsed": true
   },
   "outputs": [],
   "source": [
    "def run_simulation(pop_alpha, pop_beta, N, burn_in=0.5, thin=0.1, guess_alpha=1, guess_beta=1, niter=1000):\n",
    "    measurements = get_measurements(pop_alpha, pop_beta, N=N)\n",
    "    \n",
    "    plt.hist(np.median(measurements, axis=1), normed=True, label=\"Data\")\n",
    "    plt.plot(np.linspace(0, 1, 100), stats.beta(pop_alpha, pop_beta).pdf(np.linspace(0, 1, 100)), label=\"Population\")\n",
    "    plt.plot(np.linspace(0, 1, 100), stats.beta(guess_alpha, guess_beta).pdf(np.linspace(0, 1, 100)), label=\"Guess\")\n",
    "    plt.legend()\n",
    "    plt.show()\n",
    "    \n",
    "    alphas = np.zeros(niter)\n",
    "    betas = np.zeros(niter)\n",
    "    \n",
    "    alphas[0] = guess_alpha\n",
    "    betas[0] = guess_beta\n",
    "\n",
    "    # Gibbs Sampling\n",
    "    for i in range(1, niter):\n",
    "        if i % 100 == 0:\n",
    "            print \"{0:0.1f}% Done                   \\r\".format(100. * i / float(niter)),\n",
    "        # Draw x_i ~ P(x_i | alpha_i-1, beta_i-1)\n",
    "        samples = get_samples(alphas[i - 1], betas[i - 1], measurements)\n",
    "        # Draw alpha_i ~ P(alpha_i | x_i, beta_i-1)\n",
    "        alphas[i] = get_alpha(alphas[i - 1], betas[i - 1], samples)\n",
    "        # Draw beta_i ~ P(beta_i | x_i, alpha_i)\n",
    "        betas[i] = get_beta(alphas[i], betas[i - 1], samples)\n",
    "    \n",
    "    alphas_good = alphas[int(burn_in * len(alphas))::int(1/thin)]\n",
    "    betas_good = betas[int(burn_in * len(betas))::int(1/thin)]\n",
    "\n",
    "    best_guess_alpha = np.median(alphas_good)\n",
    "    best_guess_beta = np.median(betas_good)\n",
    "\n",
    "    plt.hist(np.median(measurements, axis=1), normed=True, label=\"Data\")\n",
    "    plt.plot(np.linspace(0, 1, 100), stats.beta(best_guess_alpha, best_guess_beta).pdf(np.linspace(0, 1, 100)), label=\"Guess\")\n",
    "    plt.legend()\n",
    "    plt.tight_layout()\n",
    "    plt.show()\n",
    "    \n",
    "    alpha_beta_corner = np.vstack((alphas_good, betas_good)).T\n",
    "    try:\n",
    "        figure = corner.corner(alpha_beta_corner)\n",
    "    except:\n",
    "        print \"Cannot corner plot\"\n",
    "\n",
    "    return alphas, betas"
   ]
  },
  {
   "cell_type": "code",
   "execution_count": 7,
   "metadata": {
    "scrolled": true
   },
   "outputs": [
    {
     "data": {
      "image/png": "[encoded data removed]",
      "text/plain": [
       "<matplotlib.figure.Figure at 0x7f35f9f0bd90>"
      ]
     },
     "metadata": {},
     "output_type": "display_data"
    },
    {
     "name": "stdout",
     "output_type": "stream",
     "text": [
      "99.9% Done                   \r"
     ]
    },
    {
     "data": {
      "image/png": "[encoded data removed]",
      "text/plain": [
       "<matplotlib.figure.Figure at 0x7f35f79a01d0>"
      ]
     },
     "metadata": {},
     "output_type": "display_data"
    },
    {
     "data": {
      "image/png": "[encoded data removed]",
      "text/plain": [
       "<matplotlib.figure.Figure at 0x7f35f763cb50>"
      ]
     },
     "metadata": {},
     "output_type": "display_data"
    }
   ],
   "source": [
    "alphas_1, betas_1 = run_simulation(1.5, 4, 31, niter=100000)"
   ]
  },
  {
   "cell_type": "code",
   "execution_count": null,
   "metadata": {},
   "outputs": [],
   "source": [
    "alphas_2, betas_2 = run_simulation(1, 1, 31, niter=100000)"
   ]
  },
  {
   "cell_type": "code",
   "execution_count": null,
   "metadata": {},
   "outputs": [],
   "source": []
  },
  {
   "cell_type": "code",
   "execution_count": null,
   "metadata": {},
   "outputs": [],
   "source": []
  },
  {
   "cell_type": "code",
   "execution_count": null,
   "metadata": {
    "collapsed": true
   },
   "outputs": [],
   "source": []
  }
 ],
 "metadata": {
  "kernelspec": {
   "display_name": "Python 2",
   "language": "python",
   "name": "python2"
  },
  "language_info": {
   "codemirror_mode": {
    "name": "ipython",
    "version": 2
   },
   "file_extension": ".py",
   "mimetype": "text/x-python",
   "name": "python",
   "nbconvert_exporter": "python",
   "pygments_lexer": "ipython2",
   "version": "2.7.13"
  }
 },
 "nbformat": 4,
 "nbformat_minor": 2
}
